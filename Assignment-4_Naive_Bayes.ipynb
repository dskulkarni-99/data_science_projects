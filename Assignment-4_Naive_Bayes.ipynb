{
 "cells": [
  {
   "cell_type": "markdown",
   "id": "55b2823f",
   "metadata": {},
   "source": [
    "# Assignment-4"
   ]
  },
  {
   "cell_type": "markdown",
   "id": "d2c9a39b",
   "metadata": {},
   "source": [
    "## 1. What assumptions are made about the attributes in Naïve Bayes method of classification and why? What is Laplacian correction and why it is necessary?"
   ]
  },
  {
   "cell_type": "markdown",
   "id": "2c144a74",
   "metadata": {},
   "source": [
    "### Assumptions about the attributes in Naive Bayes method of classification:\n",
    "\n",
    "#### 1. Independence Assumption:In Naive Bayes, we assume the features/attributes that go into the model is independent of each other. That is changing the value of one feature, does not directly influence or change the value of any of the other features/attributes used in the algorithm.  Naive Bayes assumes that the presence or absence of a particular feature is independent of the presence or absence of any other feature, given the class label. This is a strong assumption and may not always hold true in real-world data, hence the name \"naive.\"\n",
    "\n",
    "#### 2. Attribute Distribution Assumption: Naive Bayes often assumes a specific distribution of the data, such as a Gaussian distribution for continuous features or a multinomial distribution for discrete features. This assumption simplifies the computation of probabilities.\n",
    "\n",
    "#### Laplacian correction is a technique used to handle the problem of zero probabilities in the Naive Bayes classifier. When we are calculating probabilities, if a particular attribute-value pair has not been observed in the training data for a given class, the probability estimate for that pair becomes zero. However, this can be problematic because it leads to a complete lack of flexibility in the model.\n",
    "\n",
    "#### Laplacian correction is necessary because it addresses this issue by adding a small constant (usually 1) to the count of each possible attribute-value pair for each class. This ensures that no probability estimate is ever zero and prevents the model from being too rigid."
   ]
  },
  {
   "cell_type": "markdown",
   "id": "68db89da",
   "metadata": {},
   "source": [
    "## 2. Take the iris data. Use Naïve Bayes algorithm to find the species with the following two observations. [4.5 3.0 5.6 2.1; 5.4 2.6 4.5 0.0] Show various steps involved and do as explained in the class"
   ]
  },
  {
   "cell_type": "code",
   "execution_count": 1,
   "id": "5680a121",
   "metadata": {},
   "outputs": [],
   "source": [
    "# importing necessary libraries\n",
    "import numpy as np\n",
    "import pandas as pd\n",
    "from sklearn import datasets \n",
    "from sklearn.metrics import confusion_matrix \n",
    "from sklearn.model_selection import train_test_split \n",
    "import math"
   ]
  },
  {
   "cell_type": "code",
   "execution_count": 2,
   "id": "98e7f09c",
   "metadata": {},
   "outputs": [
    {
     "data": {
      "text/plain": [
       "dict_keys(['data', 'target', 'frame', 'target_names', 'DESCR', 'feature_names', 'filename', 'data_module'])"
      ]
     },
     "execution_count": 2,
     "metadata": {},
     "output_type": "execute_result"
    }
   ],
   "source": [
    "# loading the iris dataset \n",
    "iris = datasets.load_iris()\n",
    "iris.keys()"
   ]
  },
  {
   "cell_type": "code",
   "execution_count": 3,
   "id": "69b814b2",
   "metadata": {},
   "outputs": [
    {
     "data": {
      "text/plain": [
       "array(['setosa', 'versicolor', 'virginica'], dtype='<U10')"
      ]
     },
     "execution_count": 3,
     "metadata": {},
     "output_type": "execute_result"
    }
   ],
   "source": [
    "iris.target_names"
   ]
  },
  {
   "cell_type": "code",
   "execution_count": 4,
   "id": "d230e63f",
   "metadata": {},
   "outputs": [
    {
     "name": "stdout",
     "output_type": "stream",
     "text": [
      "[0 0 0 0 0 0 0 0 0 0 0 0 0 0 0 0 0 0 0 0 0 0 0 0 0 0 0 0 0 0 0 0 0 0 0 0 0\n",
      " 0 0 0 0 0 0 0 0 0 0 0 0 0 1 1 1 1 1 1 1 1 1 1 1 1 1 1 1 1 1 1 1 1 1 1 1 1\n",
      " 1 1 1 1 1 1 1 1 1 1 1 1 1 1 1 1 1 1 1 1 1 1 1 1 1 1 2 2 2 2 2 2 2 2 2 2 2\n",
      " 2 2 2 2 2 2 2 2 2 2 2 2 2 2 2 2 2 2 2 2 2 2 2 2 2 2 2 2 2 2 2 2 2 2 2 2 2\n",
      " 2 2]\n"
     ]
    }
   ],
   "source": [
    "X = iris.data\n",
    "y =iris.target\n",
    "print(y)"
   ]
  },
  {
   "cell_type": "markdown",
   "id": "c4e8c3f4",
   "metadata": {},
   "source": [
    "##### We get its encoding asabove, setosa:0, versicolor:1, virginica:2"
   ]
  },
  {
   "cell_type": "code",
   "execution_count": 5,
   "id": "36b6c468",
   "metadata": {},
   "outputs": [
    {
     "data": {
      "text/plain": [
       "'.. _iris_dataset:\\n\\nIris plants dataset\\n--------------------\\n\\n**Data Set Characteristics:**\\n\\n    :Number of Instances: 150 (50 in each of three classes)\\n    :Number of Attributes: 4 numeric, predictive attributes and the class\\n    :Attribute Information:\\n        - sepal length in cm\\n        - sepal width in cm\\n        - petal length in cm\\n        - petal width in cm\\n        - class:\\n                - Iris-Setosa\\n                - Iris-Versicolour\\n                - Iris-Virginica\\n                \\n    :Summary Statistics:\\n\\n    ============== ==== ==== ======= ===== ====================\\n                    Min  Max   Mean    SD   Class Correlation\\n    ============== ==== ==== ======= ===== ====================\\n    sepal length:   4.3  7.9   5.84   0.83    0.7826\\n    sepal width:    2.0  4.4   3.05   0.43   -0.4194\\n    petal length:   1.0  6.9   3.76   1.76    0.9490  (high!)\\n    petal width:    0.1  2.5   1.20   0.76    0.9565  (high!)\\n    ============== ==== ==== ======= ===== ====================\\n\\n    :Missing Attribute Values: None\\n    :Class Distribution: 33.3% for each of 3 classes.\\n    :Creator: R.A. Fisher\\n    :Donor: Michael Marshall (MARSHALL%PLU@io.arc.nasa.gov)\\n    :Date: July, 1988\\n\\nThe famous Iris database, first used by Sir R.A. Fisher. The dataset is taken\\nfrom Fisher\\'s paper. Note that it\\'s the same as in R, but not as in the UCI\\nMachine Learning Repository, which has two wrong data points.\\n\\nThis is perhaps the best known database to be found in the\\npattern recognition literature.  Fisher\\'s paper is a classic in the field and\\nis referenced frequently to this day.  (See Duda & Hart, for example.)  The\\ndata set contains 3 classes of 50 instances each, where each class refers to a\\ntype of iris plant.  One class is linearly separable from the other 2; the\\nlatter are NOT linearly separable from each other.\\n\\n.. topic:: References\\n\\n   - Fisher, R.A. \"The use of multiple measurements in taxonomic problems\"\\n     Annual Eugenics, 7, Part II, 179-188 (1936); also in \"Contributions to\\n     Mathematical Statistics\" (John Wiley, NY, 1950).\\n   - Duda, R.O., & Hart, P.E. (1973) Pattern Classification and Scene Analysis.\\n     (Q327.D83) John Wiley & Sons.  ISBN 0-471-22361-1.  See page 218.\\n   - Dasarathy, B.V. (1980) \"Nosing Around the Neighborhood: A New System\\n     Structure and Classification Rule for Recognition in Partially Exposed\\n     Environments\".  IEEE Transactions on Pattern Analysis and Machine\\n     Intelligence, Vol. PAMI-2, No. 1, 67-71.\\n   - Gates, G.W. (1972) \"The Reduced Nearest Neighbor Rule\".  IEEE Transactions\\n     on Information Theory, May 1972, 431-433.\\n   - See also: 1988 MLC Proceedings, 54-64.  Cheeseman et al\"s AUTOCLASS II\\n     conceptual clustering system finds 3 classes in the data.\\n   - Many, many more ...'"
      ]
     },
     "execution_count": 5,
     "metadata": {},
     "output_type": "execute_result"
    }
   ],
   "source": [
    "iris.DESCR"
   ]
  },
  {
   "cell_type": "code",
   "execution_count": 6,
   "id": "14cea6f0",
   "metadata": {},
   "outputs": [
    {
     "data": {
      "text/plain": [
       "['sepal length (cm)',\n",
       " 'sepal width (cm)',\n",
       " 'petal length (cm)',\n",
       " 'petal width (cm)']"
      ]
     },
     "execution_count": 6,
     "metadata": {},
     "output_type": "execute_result"
    }
   ],
   "source": [
    "iris.feature_names"
   ]
  },
  {
   "cell_type": "code",
   "execution_count": 7,
   "id": "2ca21513",
   "metadata": {},
   "outputs": [
    {
     "data": {
      "text/plain": [
       "array(['setosa', 'versicolor', 'virginica'], dtype='<U10')"
      ]
     },
     "execution_count": 7,
     "metadata": {},
     "output_type": "execute_result"
    }
   ],
   "source": [
    "iris.target_names"
   ]
  },
  {
   "cell_type": "code",
   "execution_count": 8,
   "id": "fa939d42",
   "metadata": {},
   "outputs": [
    {
     "data": {
      "text/html": [
       "<div>\n",
       "<style scoped>\n",
       "    .dataframe tbody tr th:only-of-type {\n",
       "        vertical-align: middle;\n",
       "    }\n",
       "\n",
       "    .dataframe tbody tr th {\n",
       "        vertical-align: top;\n",
       "    }\n",
       "\n",
       "    .dataframe thead th {\n",
       "        text-align: right;\n",
       "    }\n",
       "</style>\n",
       "<table border=\"1\" class=\"dataframe\">\n",
       "  <thead>\n",
       "    <tr style=\"text-align: right;\">\n",
       "      <th></th>\n",
       "      <th>0</th>\n",
       "      <th>1</th>\n",
       "      <th>2</th>\n",
       "      <th>3</th>\n",
       "    </tr>\n",
       "  </thead>\n",
       "  <tbody>\n",
       "    <tr>\n",
       "      <th>0</th>\n",
       "      <td>5.1</td>\n",
       "      <td>3.5</td>\n",
       "      <td>1.4</td>\n",
       "      <td>0.2</td>\n",
       "    </tr>\n",
       "    <tr>\n",
       "      <th>1</th>\n",
       "      <td>4.9</td>\n",
       "      <td>3.0</td>\n",
       "      <td>1.4</td>\n",
       "      <td>0.2</td>\n",
       "    </tr>\n",
       "    <tr>\n",
       "      <th>2</th>\n",
       "      <td>4.7</td>\n",
       "      <td>3.2</td>\n",
       "      <td>1.3</td>\n",
       "      <td>0.2</td>\n",
       "    </tr>\n",
       "    <tr>\n",
       "      <th>3</th>\n",
       "      <td>4.6</td>\n",
       "      <td>3.1</td>\n",
       "      <td>1.5</td>\n",
       "      <td>0.2</td>\n",
       "    </tr>\n",
       "    <tr>\n",
       "      <th>4</th>\n",
       "      <td>5.0</td>\n",
       "      <td>3.6</td>\n",
       "      <td>1.4</td>\n",
       "      <td>0.2</td>\n",
       "    </tr>\n",
       "  </tbody>\n",
       "</table>\n",
       "</div>"
      ],
      "text/plain": [
       "     0    1    2    3\n",
       "0  5.1  3.5  1.4  0.2\n",
       "1  4.9  3.0  1.4  0.2\n",
       "2  4.7  3.2  1.3  0.2\n",
       "3  4.6  3.1  1.5  0.2\n",
       "4  5.0  3.6  1.4  0.2"
      ]
     },
     "execution_count": 8,
     "metadata": {},
     "output_type": "execute_result"
    }
   ],
   "source": [
    "pd.DataFrame(X).head()"
   ]
  },
  {
   "cell_type": "code",
   "execution_count": 9,
   "id": "603a7848",
   "metadata": {},
   "outputs": [
    {
     "name": "stdout",
     "output_type": "stream",
     "text": [
      "<class 'pandas.core.frame.DataFrame'>\n",
      "RangeIndex: 150 entries, 0 to 149\n",
      "Data columns (total 4 columns):\n",
      " #   Column  Non-Null Count  Dtype  \n",
      "---  ------  --------------  -----  \n",
      " 0   0       150 non-null    float64\n",
      " 1   1       150 non-null    float64\n",
      " 2   2       150 non-null    float64\n",
      " 3   3       150 non-null    float64\n",
      "dtypes: float64(4)\n",
      "memory usage: 4.8 KB\n"
     ]
    }
   ],
   "source": [
    "(pd.DataFrame(X)).info()"
   ]
  },
  {
   "cell_type": "code",
   "execution_count": 10,
   "id": "ec1647f2",
   "metadata": {},
   "outputs": [
    {
     "data": {
      "text/html": [
       "<div>\n",
       "<style scoped>\n",
       "    .dataframe tbody tr th:only-of-type {\n",
       "        vertical-align: middle;\n",
       "    }\n",
       "\n",
       "    .dataframe tbody tr th {\n",
       "        vertical-align: top;\n",
       "    }\n",
       "\n",
       "    .dataframe thead th {\n",
       "        text-align: right;\n",
       "    }\n",
       "</style>\n",
       "<table border=\"1\" class=\"dataframe\">\n",
       "  <thead>\n",
       "    <tr style=\"text-align: right;\">\n",
       "      <th></th>\n",
       "      <th>0</th>\n",
       "      <th>1</th>\n",
       "      <th>2</th>\n",
       "      <th>3</th>\n",
       "    </tr>\n",
       "  </thead>\n",
       "  <tbody>\n",
       "    <tr>\n",
       "      <th>count</th>\n",
       "      <td>150.000000</td>\n",
       "      <td>150.000000</td>\n",
       "      <td>150.000000</td>\n",
       "      <td>150.000000</td>\n",
       "    </tr>\n",
       "    <tr>\n",
       "      <th>mean</th>\n",
       "      <td>5.843333</td>\n",
       "      <td>3.057333</td>\n",
       "      <td>3.758000</td>\n",
       "      <td>1.199333</td>\n",
       "    </tr>\n",
       "    <tr>\n",
       "      <th>std</th>\n",
       "      <td>0.828066</td>\n",
       "      <td>0.435866</td>\n",
       "      <td>1.765298</td>\n",
       "      <td>0.762238</td>\n",
       "    </tr>\n",
       "    <tr>\n",
       "      <th>min</th>\n",
       "      <td>4.300000</td>\n",
       "      <td>2.000000</td>\n",
       "      <td>1.000000</td>\n",
       "      <td>0.100000</td>\n",
       "    </tr>\n",
       "    <tr>\n",
       "      <th>25%</th>\n",
       "      <td>5.100000</td>\n",
       "      <td>2.800000</td>\n",
       "      <td>1.600000</td>\n",
       "      <td>0.300000</td>\n",
       "    </tr>\n",
       "    <tr>\n",
       "      <th>50%</th>\n",
       "      <td>5.800000</td>\n",
       "      <td>3.000000</td>\n",
       "      <td>4.350000</td>\n",
       "      <td>1.300000</td>\n",
       "    </tr>\n",
       "    <tr>\n",
       "      <th>75%</th>\n",
       "      <td>6.400000</td>\n",
       "      <td>3.300000</td>\n",
       "      <td>5.100000</td>\n",
       "      <td>1.800000</td>\n",
       "    </tr>\n",
       "    <tr>\n",
       "      <th>max</th>\n",
       "      <td>7.900000</td>\n",
       "      <td>4.400000</td>\n",
       "      <td>6.900000</td>\n",
       "      <td>2.500000</td>\n",
       "    </tr>\n",
       "  </tbody>\n",
       "</table>\n",
       "</div>"
      ],
      "text/plain": [
       "                0           1           2           3\n",
       "count  150.000000  150.000000  150.000000  150.000000\n",
       "mean     5.843333    3.057333    3.758000    1.199333\n",
       "std      0.828066    0.435866    1.765298    0.762238\n",
       "min      4.300000    2.000000    1.000000    0.100000\n",
       "25%      5.100000    2.800000    1.600000    0.300000\n",
       "50%      5.800000    3.000000    4.350000    1.300000\n",
       "75%      6.400000    3.300000    5.100000    1.800000\n",
       "max      7.900000    4.400000    6.900000    2.500000"
      ]
     },
     "execution_count": 10,
     "metadata": {},
     "output_type": "execute_result"
    }
   ],
   "source": [
    "pd.DataFrame(X).describe()"
   ]
  },
  {
   "cell_type": "code",
   "execution_count": 11,
   "id": "39f7ffc8",
   "metadata": {},
   "outputs": [],
   "source": [
    "df_x = pd.DataFrame(X)\n",
    "df_x.columns = ['SL', 'SW', \"PL\",\"PW\"]"
   ]
  },
  {
   "cell_type": "code",
   "execution_count": 12,
   "id": "1feb3337",
   "metadata": {},
   "outputs": [
    {
     "data": {
      "text/html": [
       "<div>\n",
       "<style scoped>\n",
       "    .dataframe tbody tr th:only-of-type {\n",
       "        vertical-align: middle;\n",
       "    }\n",
       "\n",
       "    .dataframe tbody tr th {\n",
       "        vertical-align: top;\n",
       "    }\n",
       "\n",
       "    .dataframe thead th {\n",
       "        text-align: right;\n",
       "    }\n",
       "</style>\n",
       "<table border=\"1\" class=\"dataframe\">\n",
       "  <thead>\n",
       "    <tr style=\"text-align: right;\">\n",
       "      <th></th>\n",
       "      <th>SL</th>\n",
       "      <th>SW</th>\n",
       "      <th>PL</th>\n",
       "      <th>PW</th>\n",
       "    </tr>\n",
       "  </thead>\n",
       "  <tbody>\n",
       "    <tr>\n",
       "      <th>count</th>\n",
       "      <td>150.000000</td>\n",
       "      <td>150.000000</td>\n",
       "      <td>150.000000</td>\n",
       "      <td>150.000000</td>\n",
       "    </tr>\n",
       "    <tr>\n",
       "      <th>mean</th>\n",
       "      <td>5.843333</td>\n",
       "      <td>3.057333</td>\n",
       "      <td>3.758000</td>\n",
       "      <td>1.199333</td>\n",
       "    </tr>\n",
       "    <tr>\n",
       "      <th>std</th>\n",
       "      <td>0.828066</td>\n",
       "      <td>0.435866</td>\n",
       "      <td>1.765298</td>\n",
       "      <td>0.762238</td>\n",
       "    </tr>\n",
       "    <tr>\n",
       "      <th>min</th>\n",
       "      <td>4.300000</td>\n",
       "      <td>2.000000</td>\n",
       "      <td>1.000000</td>\n",
       "      <td>0.100000</td>\n",
       "    </tr>\n",
       "    <tr>\n",
       "      <th>25%</th>\n",
       "      <td>5.100000</td>\n",
       "      <td>2.800000</td>\n",
       "      <td>1.600000</td>\n",
       "      <td>0.300000</td>\n",
       "    </tr>\n",
       "    <tr>\n",
       "      <th>50%</th>\n",
       "      <td>5.800000</td>\n",
       "      <td>3.000000</td>\n",
       "      <td>4.350000</td>\n",
       "      <td>1.300000</td>\n",
       "    </tr>\n",
       "    <tr>\n",
       "      <th>75%</th>\n",
       "      <td>6.400000</td>\n",
       "      <td>3.300000</td>\n",
       "      <td>5.100000</td>\n",
       "      <td>1.800000</td>\n",
       "    </tr>\n",
       "    <tr>\n",
       "      <th>max</th>\n",
       "      <td>7.900000</td>\n",
       "      <td>4.400000</td>\n",
       "      <td>6.900000</td>\n",
       "      <td>2.500000</td>\n",
       "    </tr>\n",
       "  </tbody>\n",
       "</table>\n",
       "</div>"
      ],
      "text/plain": [
       "               SL          SW          PL          PW\n",
       "count  150.000000  150.000000  150.000000  150.000000\n",
       "mean     5.843333    3.057333    3.758000    1.199333\n",
       "std      0.828066    0.435866    1.765298    0.762238\n",
       "min      4.300000    2.000000    1.000000    0.100000\n",
       "25%      5.100000    2.800000    1.600000    0.300000\n",
       "50%      5.800000    3.000000    4.350000    1.300000\n",
       "75%      6.400000    3.300000    5.100000    1.800000\n",
       "max      7.900000    4.400000    6.900000    2.500000"
      ]
     },
     "execution_count": 12,
     "metadata": {},
     "output_type": "execute_result"
    }
   ],
   "source": [
    "df_x.describe()"
   ]
  },
  {
   "cell_type": "code",
   "execution_count": 13,
   "id": "58299f7f",
   "metadata": {},
   "outputs": [
    {
     "data": {
      "text/plain": [
       "0    0\n",
       "1    0\n",
       "2    0\n",
       "3    0\n",
       "dtype: int64"
      ]
     },
     "execution_count": 13,
     "metadata": {},
     "output_type": "execute_result"
    }
   ],
   "source": [
    "pd.DataFrame(X).isnull().sum()"
   ]
  },
  {
   "cell_type": "code",
   "execution_count": 14,
   "id": "4ea06a20",
   "metadata": {},
   "outputs": [
    {
     "data": {
      "text/html": [
       "<div>\n",
       "<style scoped>\n",
       "    .dataframe tbody tr th:only-of-type {\n",
       "        vertical-align: middle;\n",
       "    }\n",
       "\n",
       "    .dataframe tbody tr th {\n",
       "        vertical-align: top;\n",
       "    }\n",
       "\n",
       "    .dataframe thead th {\n",
       "        text-align: right;\n",
       "    }\n",
       "</style>\n",
       "<table border=\"1\" class=\"dataframe\">\n",
       "  <thead>\n",
       "    <tr style=\"text-align: right;\">\n",
       "      <th></th>\n",
       "      <th>SL</th>\n",
       "      <th>SW</th>\n",
       "      <th>PL</th>\n",
       "      <th>PW</th>\n",
       "    </tr>\n",
       "  </thead>\n",
       "  <tbody>\n",
       "    <tr>\n",
       "      <th>count</th>\n",
       "      <td>150.000000</td>\n",
       "      <td>150.000000</td>\n",
       "      <td>150.000000</td>\n",
       "      <td>150.000000</td>\n",
       "    </tr>\n",
       "    <tr>\n",
       "      <th>mean</th>\n",
       "      <td>5.843333</td>\n",
       "      <td>3.057333</td>\n",
       "      <td>3.758000</td>\n",
       "      <td>1.199333</td>\n",
       "    </tr>\n",
       "    <tr>\n",
       "      <th>std</th>\n",
       "      <td>0.828066</td>\n",
       "      <td>0.435866</td>\n",
       "      <td>1.765298</td>\n",
       "      <td>0.762238</td>\n",
       "    </tr>\n",
       "    <tr>\n",
       "      <th>min</th>\n",
       "      <td>4.300000</td>\n",
       "      <td>2.000000</td>\n",
       "      <td>1.000000</td>\n",
       "      <td>0.100000</td>\n",
       "    </tr>\n",
       "    <tr>\n",
       "      <th>25%</th>\n",
       "      <td>5.100000</td>\n",
       "      <td>2.800000</td>\n",
       "      <td>1.600000</td>\n",
       "      <td>0.300000</td>\n",
       "    </tr>\n",
       "    <tr>\n",
       "      <th>50%</th>\n",
       "      <td>5.800000</td>\n",
       "      <td>3.000000</td>\n",
       "      <td>4.350000</td>\n",
       "      <td>1.300000</td>\n",
       "    </tr>\n",
       "    <tr>\n",
       "      <th>75%</th>\n",
       "      <td>6.400000</td>\n",
       "      <td>3.300000</td>\n",
       "      <td>5.100000</td>\n",
       "      <td>1.800000</td>\n",
       "    </tr>\n",
       "    <tr>\n",
       "      <th>max</th>\n",
       "      <td>7.900000</td>\n",
       "      <td>4.400000</td>\n",
       "      <td>6.900000</td>\n",
       "      <td>2.500000</td>\n",
       "    </tr>\n",
       "  </tbody>\n",
       "</table>\n",
       "</div>"
      ],
      "text/plain": [
       "               SL          SW          PL          PW\n",
       "count  150.000000  150.000000  150.000000  150.000000\n",
       "mean     5.843333    3.057333    3.758000    1.199333\n",
       "std      0.828066    0.435866    1.765298    0.762238\n",
       "min      4.300000    2.000000    1.000000    0.100000\n",
       "25%      5.100000    2.800000    1.600000    0.300000\n",
       "50%      5.800000    3.000000    4.350000    1.300000\n",
       "75%      6.400000    3.300000    5.100000    1.800000\n",
       "max      7.900000    4.400000    6.900000    2.500000"
      ]
     },
     "execution_count": 14,
     "metadata": {},
     "output_type": "execute_result"
    }
   ],
   "source": [
    "df_x = pd.DataFrame(X)\n",
    "df_x.columns = ['SL', 'SW', \"PL\",\"PW\"]\n",
    "df_x.describe()"
   ]
  },
  {
   "cell_type": "code",
   "execution_count": 15,
   "id": "73696d5d",
   "metadata": {},
   "outputs": [
    {
     "data": {
      "text/html": [
       "<div>\n",
       "<style scoped>\n",
       "    .dataframe tbody tr th:only-of-type {\n",
       "        vertical-align: middle;\n",
       "    }\n",
       "\n",
       "    .dataframe tbody tr th {\n",
       "        vertical-align: top;\n",
       "    }\n",
       "\n",
       "    .dataframe thead th {\n",
       "        text-align: right;\n",
       "    }\n",
       "</style>\n",
       "<table border=\"1\" class=\"dataframe\">\n",
       "  <thead>\n",
       "    <tr style=\"text-align: right;\">\n",
       "      <th></th>\n",
       "      <th>SL</th>\n",
       "      <th>SW</th>\n",
       "      <th>PL</th>\n",
       "      <th>PW</th>\n",
       "    </tr>\n",
       "  </thead>\n",
       "  <tbody>\n",
       "    <tr>\n",
       "      <th>0</th>\n",
       "      <td>5.1</td>\n",
       "      <td>3.5</td>\n",
       "      <td>1.4</td>\n",
       "      <td>0.2</td>\n",
       "    </tr>\n",
       "    <tr>\n",
       "      <th>1</th>\n",
       "      <td>4.9</td>\n",
       "      <td>3.0</td>\n",
       "      <td>1.4</td>\n",
       "      <td>0.2</td>\n",
       "    </tr>\n",
       "    <tr>\n",
       "      <th>2</th>\n",
       "      <td>4.7</td>\n",
       "      <td>3.2</td>\n",
       "      <td>1.3</td>\n",
       "      <td>0.2</td>\n",
       "    </tr>\n",
       "    <tr>\n",
       "      <th>3</th>\n",
       "      <td>4.6</td>\n",
       "      <td>3.1</td>\n",
       "      <td>1.5</td>\n",
       "      <td>0.2</td>\n",
       "    </tr>\n",
       "    <tr>\n",
       "      <th>4</th>\n",
       "      <td>5.0</td>\n",
       "      <td>3.6</td>\n",
       "      <td>1.4</td>\n",
       "      <td>0.2</td>\n",
       "    </tr>\n",
       "    <tr>\n",
       "      <th>...</th>\n",
       "      <td>...</td>\n",
       "      <td>...</td>\n",
       "      <td>...</td>\n",
       "      <td>...</td>\n",
       "    </tr>\n",
       "    <tr>\n",
       "      <th>145</th>\n",
       "      <td>6.7</td>\n",
       "      <td>3.0</td>\n",
       "      <td>5.2</td>\n",
       "      <td>2.3</td>\n",
       "    </tr>\n",
       "    <tr>\n",
       "      <th>146</th>\n",
       "      <td>6.3</td>\n",
       "      <td>2.5</td>\n",
       "      <td>5.0</td>\n",
       "      <td>1.9</td>\n",
       "    </tr>\n",
       "    <tr>\n",
       "      <th>147</th>\n",
       "      <td>6.5</td>\n",
       "      <td>3.0</td>\n",
       "      <td>5.2</td>\n",
       "      <td>2.0</td>\n",
       "    </tr>\n",
       "    <tr>\n",
       "      <th>148</th>\n",
       "      <td>6.2</td>\n",
       "      <td>3.4</td>\n",
       "      <td>5.4</td>\n",
       "      <td>2.3</td>\n",
       "    </tr>\n",
       "    <tr>\n",
       "      <th>149</th>\n",
       "      <td>5.9</td>\n",
       "      <td>3.0</td>\n",
       "      <td>5.1</td>\n",
       "      <td>1.8</td>\n",
       "    </tr>\n",
       "  </tbody>\n",
       "</table>\n",
       "<p>150 rows × 4 columns</p>\n",
       "</div>"
      ],
      "text/plain": [
       "      SL   SW   PL   PW\n",
       "0    5.1  3.5  1.4  0.2\n",
       "1    4.9  3.0  1.4  0.2\n",
       "2    4.7  3.2  1.3  0.2\n",
       "3    4.6  3.1  1.5  0.2\n",
       "4    5.0  3.6  1.4  0.2\n",
       "..   ...  ...  ...  ...\n",
       "145  6.7  3.0  5.2  2.3\n",
       "146  6.3  2.5  5.0  1.9\n",
       "147  6.5  3.0  5.2  2.0\n",
       "148  6.2  3.4  5.4  2.3\n",
       "149  5.9  3.0  5.1  1.8\n",
       "\n",
       "[150 rows x 4 columns]"
      ]
     },
     "execution_count": 15,
     "metadata": {},
     "output_type": "execute_result"
    }
   ],
   "source": [
    "#iris.data -> X_train\n",
    "X_train=df_x\n",
    "X_train"
   ]
  },
  {
   "cell_type": "code",
   "execution_count": 16,
   "id": "e5cebb17",
   "metadata": {},
   "outputs": [
    {
     "data": {
      "text/plain": [
       "array([0, 0, 0, 0, 0, 0, 0, 0, 0, 0, 0, 0, 0, 0, 0, 0, 0, 0, 0, 0, 0, 0,\n",
       "       0, 0, 0, 0, 0, 0, 0, 0, 0, 0, 0, 0, 0, 0, 0, 0, 0, 0, 0, 0, 0, 0,\n",
       "       0, 0, 0, 0, 0, 0, 1, 1, 1, 1, 1, 1, 1, 1, 1, 1, 1, 1, 1, 1, 1, 1,\n",
       "       1, 1, 1, 1, 1, 1, 1, 1, 1, 1, 1, 1, 1, 1, 1, 1, 1, 1, 1, 1, 1, 1,\n",
       "       1, 1, 1, 1, 1, 1, 1, 1, 1, 1, 1, 1, 2, 2, 2, 2, 2, 2, 2, 2, 2, 2,\n",
       "       2, 2, 2, 2, 2, 2, 2, 2, 2, 2, 2, 2, 2, 2, 2, 2, 2, 2, 2, 2, 2, 2,\n",
       "       2, 2, 2, 2, 2, 2, 2, 2, 2, 2, 2, 2, 2, 2, 2, 2, 2, 2])"
      ]
     },
     "execution_count": 16,
     "metadata": {},
     "output_type": "execute_result"
    }
   ],
   "source": [
    "# #iris.target -> y_train\n",
    "y_train=y\n",
    "y_train"
   ]
  },
  {
   "cell_type": "markdown",
   "id": "f2a79297",
   "metadata": {},
   "source": [
    "### Naïve Bayes calculates the probability of an event in the following steps:\n",
    "#### 1.Calculate prior probability for given class labels\n",
    "#### 2.Calculate conditional probability with each attributes for each class\n",
    "#### 3.Multiply same class conditional probability\n",
    "#### 4.Multiply prior probability with probability obtained in 3\n",
    "#### 5.See which class has higher probability. Higher probability class belongs to given input set."
   ]
  },
  {
   "cell_type": "code",
   "execution_count": 17,
   "id": "01d93213",
   "metadata": {},
   "outputs": [
    {
     "data": {
      "text/plain": [
       "0    0.333333\n",
       "1    0.333333\n",
       "2    0.333333\n",
       "dtype: float64"
      ]
     },
     "execution_count": 17,
     "metadata": {},
     "output_type": "execute_result"
    }
   ],
   "source": [
    "# 1.Calculate priori probability for given class labels\n",
    "class_counts = pd.Series(y_train).value_counts()\n",
    "prior_probabilities = class_counts / len(y_train)\n",
    "prior_probabilities"
   ]
  },
  {
   "cell_type": "markdown",
   "id": "fa32adba",
   "metadata": {},
   "source": [
    "#### prior probability of setosa is 0.333333 , prior probability of versicolor is 0.333333 and prior probability of virginica is 0.333333"
   ]
  },
  {
   "cell_type": "code",
   "execution_count": 18,
   "id": "964b92f5",
   "metadata": {},
   "outputs": [
    {
     "name": "stdout",
     "output_type": "stream",
     "text": [
      "Setosa mean\n",
      " SL    5.006\n",
      "SW    3.428\n",
      "PL    1.462\n",
      "PW    0.246\n",
      "dtype: float64\n",
      "Setosa Standard Deviation\n",
      " SL    0.352490\n",
      "SW    0.379064\n",
      "PL    0.173664\n",
      "PW    0.105386\n",
      "dtype: float64\n"
     ]
    }
   ],
   "source": [
    "# 2.Calculate conditional probability with each attributes for each class\n",
    "# Calculate std and mean for each class for each feature\n",
    "#Setosa\n",
    "setosa =  X_train[y_train==0]\n",
    "# Calculate mean and standard deviation for each feature\n",
    "setosa_mean = setosa.mean()\n",
    "print(\"Setosa mean\\n\",setosa_mean)\n",
    "setosa_std = setosa.std()\n",
    "print(\"Setosa Standard Deviation\\n\",setosa_std)"
   ]
  },
  {
   "cell_type": "code",
   "execution_count": 19,
   "id": "b393d24f",
   "metadata": {},
   "outputs": [
    {
     "name": "stdout",
     "output_type": "stream",
     "text": [
      "Versicolor mean\n",
      " SL    5.936\n",
      "SW    2.770\n",
      "PL    4.260\n",
      "PW    1.326\n",
      "dtype: float64\n",
      "Versicolor Standard Deviation\n",
      " SL    0.516171\n",
      "SW    0.313798\n",
      "PL    0.469911\n",
      "PW    0.197753\n",
      "dtype: float64\n"
     ]
    }
   ],
   "source": [
    "#versicolor\n",
    "versicolor =  X_train[y_train==1]\n",
    "# Calculate mean and standard deviation for each feature\n",
    "versicolor_mean = versicolor.mean()\n",
    "print(\"Versicolor mean\\n\",versicolor_mean)\n",
    "versicolor_std = versicolor.std()\n",
    "print(\"Versicolor Standard Deviation\\n\",versicolor_std)"
   ]
  },
  {
   "cell_type": "code",
   "execution_count": 20,
   "id": "c3c77fb1",
   "metadata": {},
   "outputs": [
    {
     "name": "stdout",
     "output_type": "stream",
     "text": [
      "Virginicar mean\n",
      " SL    6.588\n",
      "SW    2.974\n",
      "PL    5.552\n",
      "PW    2.026\n",
      "dtype: float64\n",
      "Virginica Standard Deviation\n",
      " SL    0.635880\n",
      "SW    0.322497\n",
      "PL    0.551895\n",
      "PW    0.274650\n",
      "dtype: float64\n"
     ]
    }
   ],
   "source": [
    "#Virginica\n",
    "virginica =  X_train[y_train==2]\n",
    "# Calculate mean and standard deviation for each feature\n",
    "virginica_mean = virginica.mean()\n",
    "print(\"Virginicar mean\\n\",virginica_mean)\n",
    "virginica_std = virginica.std()\n",
    "print(\"Virginica Standard Deviation\\n\",virginica_std)"
   ]
  },
  {
   "cell_type": "code",
   "execution_count": 21,
   "id": "86839294",
   "metadata": {},
   "outputs": [
    {
     "name": "stdout",
     "output_type": "stream",
     "text": [
      "\n",
      "For [4.5 3.  5.6 2.1]\n",
      "\n",
      "Step 3 Multiply same class conditional probability setosa:\n",
      "\n",
      "P(Sepal Length|setosa) 0.40392013907615026\n",
      "P(Sepal Width|setosa) 0.5563719391353582\n",
      "P(Petal Length|setosa) 1.1875541655714434e-123\n",
      "P(Petal Width|setosa) 2.355834634483228e-67\n",
      "The setosa class conditional probability is: 2.0957414363597506e-191\n",
      "\n",
      "\n",
      "Step 3 Multiply same class conditional probability versicolor:\n",
      "\n",
      "P(Sepal Length|versicolor) 0.01612394999498657\n",
      "P(Sepal Width|versicolor) 0.9718588767383594\n",
      "P(Petal Length|versicolor) 0.014558959141976361\n",
      "P(Petal Width|versicolor) 0.0009511904237472855\n",
      "The versicolor class conditional probability is: 7.233545044047977e-08\n",
      "\n",
      "\n",
      "Step 3 Multiply same class conditional probability virginica:\n",
      "\n",
      "P(Sepal Length|virginica) 0.0028588559122621183\n",
      "P(Sepal Width|virginica) 1.2330281405458783\n",
      "P(Petal Length|virginica) 0.7201302200978542\n",
      "P(Petal Width|virginica) 1.4007697304508109\n",
      "The virginica class conditional probability is: 0.0011852822633235968\n",
      "\n",
      "\n",
      "Multiply prior probability with probability obtained in \n",
      "The setosa class probability is: posterior(setosa) = 2.0957414363597506e-191\n",
      "The versicolor class probability is: posterior(versicolor) = 7.233545044047977e-08\n",
      "The virginica class probability is: posterior(virginica) = 0.0011852822633235968\n",
      "\n",
      "\n",
      "\n",
      "For [5.4 2.6 4.5 0. ]\n",
      "\n",
      "Step 3 Multiply same class conditional probability setosa:\n",
      "\n",
      "P(Sepal Length|setosa) 0.6059840084959748\n",
      "P(Sepal Width|setosa) 0.09685579189142812\n",
      "P(Petal Length|setosa) 8.107069023378621e-67\n",
      "P(Petal Width|setosa) 0.24827083728040222\n",
      "The setosa class conditional probability is: 3.9378129656619236e-69\n",
      "\n",
      "\n",
      "Step 3 Multiply same class conditional probability versicolor:\n",
      "\n",
      "P(Sepal Length|versicolor) 0.45078047855396497\n",
      "P(Sepal Width|versicolor) 1.0978139261303306\n",
      "P(Petal Length|versicolor) 0.7451634450833703\n",
      "P(Petal Width|versicolor) 3.4795186793995304e-10\n",
      "The versicolor class conditional probability is: 4.277039837341142e-11\n",
      "\n",
      "\n",
      "Step 3 Multiply same class conditional probability virginica:\n",
      "\n",
      "P(Sepal Length|virginica) 0.10954469305063746\n",
      "P(Sepal Width|virginica) 0.6314541422978224\n",
      "P(Petal Length|virginica) 0.11750628709842668\n",
      "P(Petal Width|virginica) 2.2183751954679923e-12\n",
      "The virginica class conditional probability is: 6.0104641216898106e-15\n",
      "\n",
      "\n",
      "Multiply prior probability with probability obtained in \n",
      "The setosa class probability is: posterior(setosa) = 3.9378129656619236e-69\n",
      "The versicolor class probability is: posterior(versicolor) = 4.277039837341142e-11\n",
      "The virginica class probability is: posterior(virginica) = 6.0104641216898106e-15\n",
      "\n",
      "\n"
     ]
    }
   ],
   "source": [
    "#conditional probability\n",
    "mean_values = {\n",
    "    'setosa': np.array([5.006, 3.428, 1.462, 0.246]),\n",
    "    'versicolor': np.array([5.936, 2.77, 4.26, 1.326]),\n",
    "    'virginica': np.array([6.588, 2.974, 5.552, 2.026])     \n",
    "}\n",
    "\n",
    "std_values = {\n",
    "    'setosa': np.array([0.35249, 0.379064, 0.173664, 0.105386]),\n",
    "    'versicolor': np.array([0.516171, 0.313798, 0.469911, 0.197753]),\n",
    "    'virginica': np.array([0.635880, 0.322497, 0.551895, 0.27465]),\n",
    "}\n",
    "prior_probabilities = {\n",
    "    'setosa': 1/3,\n",
    "    'versicolor': 1/3,\n",
    "    'virginica': 1/3\n",
    "}\n",
    "\n",
    "# Given observations\n",
    "observations = np.array([[4.5, 3.0, 5.6, 2.1], [5.4, 2.6, 4.5, 0.0]])\n",
    "\n",
    "# Function to calculate conditional probability using Gaussian probability density function\n",
    "def calculate_conditional_probability(x, mean, std):\n",
    "    exponent = -((x - mean) ** 2) / (2 * std ** 2)\n",
    "    return (1 / (math.sqrt(2 * math.pi) * std)) * math.exp(exponent)\n",
    "\n",
    "#Multiply same class conditional probability\n",
    "for observe in observations:\n",
    "    conditional_probs = {}\n",
    "    posterior_probs = {}\n",
    "\n",
    "    # Calculate conditional probabilities for each class\n",
    "    for class_label in mean_values.keys():\n",
    "        conditional_probs[class_label] = [calculate_conditional_probability(observe[i], mean_values[class_label][i], std_values[class_label][i]) for i in range(4)]\n",
    "\n",
    "    # Calculate posterior probabilities for each class\n",
    "    #Multiply prior probability with probability obtained in 3\n",
    "    for class_label in mean_values.keys():\n",
    "        posterior_probs[class_label] = prior_probabilities[class_label] * np.prod(conditional_probs[class_label])\n",
    "\n",
    "    print(f\"\\nFor {observe}\\n\")\n",
    "    for class_label in mean_values.keys():\n",
    "        print(f\"Step 3 Multiply same class conditional probability {class_label}:\\n\")\n",
    "        for i, attribute in enumerate(['Sepal Length', 'Sepal Width', 'Petal Length', 'Petal Width']):\n",
    "            print(f\"P({attribute}|{class_label})\", conditional_probs[class_label][i])\n",
    "        print(f\"The {class_label} class conditional probability is:\", posterior_probs[class_label])\n",
    "        print(\"\\n\")\n",
    "\n",
    "    # Display final posterior probabilities\n",
    "    print(\"Multiply prior probability with probability obtained in \")\n",
    "    for class_label in mean_values.keys():\n",
    "        print(f\"The {class_label} class probability is: posterior({class_label}) =\", posterior_probs[class_label])\n",
    "    print(\"\\n\")"
   ]
  },
  {
   "cell_type": "markdown",
   "id": "c7c67ae1",
   "metadata": {},
   "source": [
    "Observation:\n",
    "##### 1 [4.5 3.  5.6 2.1] we can see that Virginica has highest probability value \n",
    "\n",
    "##### 2 [5.4 2.6 4.5 0. ] we can see that Versicolor has highest probability value "
   ]
  },
  {
   "cell_type": "code",
   "execution_count": 22,
   "id": "7374b0f2",
   "metadata": {},
   "outputs": [
    {
     "name": "stdout",
     "output_type": "stream",
     "text": [
      "Observation 1: virginica\n",
      "Observation 2: versicolor\n"
     ]
    }
   ],
   "source": [
    "from sklearn import datasets\n",
    "from sklearn.model_selection import train_test_split\n",
    "from sklearn.naive_bayes import GaussianNB\n",
    "\n",
    "# Load the iris dataset\n",
    "iris = datasets.load_iris()\n",
    "X = iris.data\n",
    "y = iris.target\n",
    "\n",
    "# Split the dataset into training and testing sets\n",
    "X_train, X_test, y_train, y_test = train_test_split(X, y, test_size=0.2, random_state=42)\n",
    "\n",
    "# Create a Naïve Bayes classifier\n",
    "classifier = GaussianNB()\n",
    "\n",
    "# Train the classifier on the training set\n",
    "classifier.fit(X_train, y_train)\n",
    "\n",
    "# Use the classifier to predict the species for the given observations\n",
    "new_observations = [[4.5, 3.0, 5.6, 2.1], [5.4, 2.6, 4.5, 0.0]]\n",
    "predictions = classifier.predict(new_observations)\n",
    "\n",
    "# Print the predicted species for each observation\n",
    "for i, observation in enumerate(new_observations):\n",
    "    print(f\"Observation {i+1}: {iris.target_names[predictions[i]]}\")"
   ]
  },
  {
   "cell_type": "markdown",
   "id": "c89fe97c",
   "metadata": {},
   "source": [
    "##### From above output we can see that In observation 1 we get Virginica to have highest probability and in observation 2 we get Versicolor to have highest probability and it matches our manual calculation "
   ]
  },
  {
   "cell_type": "markdown",
   "id": "84229d1a",
   "metadata": {},
   "source": [
    "## 3. Consider the data of play tennis or not. Predict the output for the following cases.\n",
    "### 1. Outlook: Sunny, Temp: Hot, Humidity: High, Wind = Strong\n",
    "### 2. Outlook = Overcast, Temp = Mild, humidity = High, Wind = Strong\n",
    "### Verify your answer with sklearn\n"
   ]
  },
  {
   "cell_type": "code",
   "execution_count": 23,
   "id": "90dd8480",
   "metadata": {},
   "outputs": [
    {
     "data": {
      "text/html": [
       "<div>\n",
       "<style scoped>\n",
       "    .dataframe tbody tr th:only-of-type {\n",
       "        vertical-align: middle;\n",
       "    }\n",
       "\n",
       "    .dataframe tbody tr th {\n",
       "        vertical-align: top;\n",
       "    }\n",
       "\n",
       "    .dataframe thead th {\n",
       "        text-align: right;\n",
       "    }\n",
       "</style>\n",
       "<table border=\"1\" class=\"dataframe\">\n",
       "  <thead>\n",
       "    <tr style=\"text-align: right;\">\n",
       "      <th></th>\n",
       "      <th>Outlook</th>\n",
       "      <th>Temperature</th>\n",
       "      <th>Humidity</th>\n",
       "      <th>Wind</th>\n",
       "      <th>Play Tennis</th>\n",
       "    </tr>\n",
       "  </thead>\n",
       "  <tbody>\n",
       "    <tr>\n",
       "      <th>0</th>\n",
       "      <td>Sunny</td>\n",
       "      <td>Hot</td>\n",
       "      <td>High</td>\n",
       "      <td>Weak</td>\n",
       "      <td>No</td>\n",
       "    </tr>\n",
       "    <tr>\n",
       "      <th>1</th>\n",
       "      <td>Sunny</td>\n",
       "      <td>Hot</td>\n",
       "      <td>High</td>\n",
       "      <td>Strong</td>\n",
       "      <td>No</td>\n",
       "    </tr>\n",
       "    <tr>\n",
       "      <th>2</th>\n",
       "      <td>Overcast</td>\n",
       "      <td>Hot</td>\n",
       "      <td>High</td>\n",
       "      <td>Weak</td>\n",
       "      <td>Yes</td>\n",
       "    </tr>\n",
       "    <tr>\n",
       "      <th>3</th>\n",
       "      <td>Rainy</td>\n",
       "      <td>Mild</td>\n",
       "      <td>High</td>\n",
       "      <td>Weak</td>\n",
       "      <td>Yes</td>\n",
       "    </tr>\n",
       "    <tr>\n",
       "      <th>4</th>\n",
       "      <td>Rainy</td>\n",
       "      <td>Cool</td>\n",
       "      <td>Normal</td>\n",
       "      <td>Weak</td>\n",
       "      <td>Yes</td>\n",
       "    </tr>\n",
       "    <tr>\n",
       "      <th>5</th>\n",
       "      <td>Rainy</td>\n",
       "      <td>Cool</td>\n",
       "      <td>Normal</td>\n",
       "      <td>Strong</td>\n",
       "      <td>No</td>\n",
       "    </tr>\n",
       "    <tr>\n",
       "      <th>6</th>\n",
       "      <td>Overcast</td>\n",
       "      <td>Cool</td>\n",
       "      <td>Normal</td>\n",
       "      <td>Strong</td>\n",
       "      <td>Yes</td>\n",
       "    </tr>\n",
       "    <tr>\n",
       "      <th>7</th>\n",
       "      <td>Sunny</td>\n",
       "      <td>Mild</td>\n",
       "      <td>High</td>\n",
       "      <td>Weak</td>\n",
       "      <td>No</td>\n",
       "    </tr>\n",
       "    <tr>\n",
       "      <th>8</th>\n",
       "      <td>Sunny</td>\n",
       "      <td>Cool</td>\n",
       "      <td>Normal</td>\n",
       "      <td>Weak</td>\n",
       "      <td>Yes</td>\n",
       "    </tr>\n",
       "    <tr>\n",
       "      <th>9</th>\n",
       "      <td>Rainy</td>\n",
       "      <td>Mild</td>\n",
       "      <td>Normal</td>\n",
       "      <td>Weak</td>\n",
       "      <td>Yes</td>\n",
       "    </tr>\n",
       "    <tr>\n",
       "      <th>10</th>\n",
       "      <td>Sunny</td>\n",
       "      <td>Mild</td>\n",
       "      <td>Normal</td>\n",
       "      <td>Strong</td>\n",
       "      <td>Yes</td>\n",
       "    </tr>\n",
       "    <tr>\n",
       "      <th>11</th>\n",
       "      <td>Overcast</td>\n",
       "      <td>Mild</td>\n",
       "      <td>High</td>\n",
       "      <td>Strong</td>\n",
       "      <td>Yes</td>\n",
       "    </tr>\n",
       "    <tr>\n",
       "      <th>12</th>\n",
       "      <td>Overcast</td>\n",
       "      <td>Hot</td>\n",
       "      <td>Normal</td>\n",
       "      <td>Weak</td>\n",
       "      <td>Yes</td>\n",
       "    </tr>\n",
       "    <tr>\n",
       "      <th>13</th>\n",
       "      <td>Rainy</td>\n",
       "      <td>Mild</td>\n",
       "      <td>High</td>\n",
       "      <td>Strong</td>\n",
       "      <td>No</td>\n",
       "    </tr>\n",
       "  </tbody>\n",
       "</table>\n",
       "</div>"
      ],
      "text/plain": [
       "     Outlook Temperature Humidity    Wind Play Tennis\n",
       "0      Sunny         Hot     High    Weak          No\n",
       "1      Sunny         Hot     High  Strong          No\n",
       "2   Overcast         Hot     High    Weak         Yes\n",
       "3      Rainy        Mild     High    Weak         Yes\n",
       "4      Rainy        Cool   Normal    Weak         Yes\n",
       "5      Rainy        Cool   Normal  Strong          No\n",
       "6   Overcast        Cool   Normal  Strong         Yes\n",
       "7      Sunny        Mild     High    Weak          No\n",
       "8      Sunny        Cool   Normal    Weak         Yes\n",
       "9      Rainy        Mild   Normal    Weak         Yes\n",
       "10     Sunny        Mild   Normal  Strong         Yes\n",
       "11  Overcast        Mild     High  Strong         Yes\n",
       "12  Overcast         Hot   Normal    Weak         Yes\n",
       "13     Rainy        Mild     High  Strong          No"
      ]
     },
     "execution_count": 23,
     "metadata": {},
     "output_type": "execute_result"
    }
   ],
   "source": [
    "# Assigning features and label variables\n",
    "weather=['Sunny','Sunny','Overcast','Rainy','Rainy','Rainy','Overcast','Sunny','Sunny',\n",
    "'Rainy','Sunny','Overcast','Overcast','Rainy']\n",
    "outlook = weather\n",
    "temp=['Hot','Hot','Hot','Mild','Cool','Cool','Cool','Mild','Cool','Mild','Mild','Mild','Hot','Mild']\n",
    "\n",
    "humidity = ['High', 'High', 'High', 'High', 'Normal', 'Normal', 'Normal', 'High', 'Normal', 'Normal', 'Normal','High', 'Normal', 'High']\n",
    "wind = ['Weak', 'Strong', 'Weak', 'Weak', 'Weak', 'Strong', 'Strong', 'Weak', 'Weak', 'Weak', 'Strong', 'Strong', 'Weak', 'Strong']\n",
    "play=['No','No','Yes','Yes','Yes','No','Yes','No','Yes','Yes','Yes','Yes','Yes','No']\n",
    "\n",
    "tennis_data = pd.DataFrame(zip(outlook, temp, humidity, wind, play), columns = ['Outlook','Temperature', 'Humidity', 'Wind', 'Play Tennis' ])\n",
    "tennis_data.to_csv(\"tennis_data.csv\", index = False)\n",
    "tennis_data"
   ]
  },
  {
   "cell_type": "markdown",
   "id": "5dfdb638",
   "metadata": {},
   "source": [
    "### For Outlook : Sunny, Temp: Hot, Humidity: High, Wind = Strong\n",
    "##### x ’=(Outlook=Sunny, Temperature=Hot, Humidity=High,Wind=Strong)\n",
    "\n",
    "#### 1. Calculate prior probability for given class labels\n",
    "#####  From above table we can see that probability for play tennis is P(Yes) = 9/14 and\n",
    "##### Probability for not play tennis is P(No) = 5/14\n",
    "\n",
    "#### 2. Calculate conditional probability with each attributes for each class\n",
    "##### P(Outlook=Sunny|Play=Yes) = 2/9\n",
    "##### P(Temperature=Hot|Play=Yes) = 2/9\n",
    "##### P(Humidity=High|Play=Yes) = 3/9\n",
    "##### P(Wind=Strong|Play=Yes) = 3/9\n",
    "\n",
    "##### P(Outlook=Sunny|Play=No) = 3/5\n",
    "##### P(Temperature=Hot|Play==No) = 2/5\n",
    "##### P(Humidity=High|Play=No) = 4/5\n",
    "##### P(Wind=Strong|Play=No) = 3/5\n",
    "\n",
    "#### 3. Multiply same class conditional probability and Multiply that with priori probability \n",
    "##### P(Yes|x ’): [P(Sunny|Yes)P(Hot|Yes)P(High|Yes)P(Strong|Yes)]P(Play=Yes)\n",
    "##### => (2/9)*(2/9)*(3/9)*(3/9)*(9/14) = 0.003527\n",
    "##### P(No|x ’): [P(Sunny|No) P(Hot|No)P(High|No)P(Strong|No)]P(Play=No)\n",
    "##### => (3/5)*(2/5)*(4/5)*(3/5)*(5/14) = 0.0421\n",
    "\n",
    "#### Observation: Given the fact P(Yes| x’) < P(No| x’), we label x’ to be “No” Answer => No, don't Play Tennis\n",
    "\n",
    "\n",
    "### For Outlook = Overcast, Temp = Mild, humidity = High, Wind = Strong\n",
    "##### x ’=(Outlook=Overcast, Temperature=Mild, Humidity=High,Wind=Strong)\n",
    "\n",
    "#### 1. Calculate prior probability for given class labels\n",
    "#####  From above table we can see that probability for play tennis is P(Yes) = 9/14 and\n",
    "##### Probability for not play tennis is P(No) = 5/14\n",
    "\n",
    "#### 2. Calculate conditional probability with each attributes for each class\n",
    "##### P(Outlook=Overcast|Play=Yes) = 4/9\n",
    "##### P(Temperature=Mild|Play=Yes) = 4/9\n",
    "##### P(Humidity=High|Play=Yes) = 3/9\n",
    "##### P(Wind=Strong|Play=Yes) = 3/9\n",
    "\n",
    "##### P(Outlook=Overcast|Play=No) = 0/5\n",
    "##### P(Temperature=Mild|Play==No) = 2/5\n",
    "##### P(Humidity=High|Play=No) = 4/5\n",
    "##### P(Wind=Strong|Play=No) = 3/5\n",
    "\n",
    "#### 3. Multiply same class conditional probability and Multiply that with priori probability \n",
    "##### [P(Overcast|Yes)P(Mild|Yes)P(High|Yes)P(Strong|Yes)]P(Play=Yes)\n",
    "##### => (4/9)*(4/9)*(3/9)*(3/9)*(9/14)=0.01412\n",
    "##### P(No|x ’): [P(Overcast|No)P(Mild|No)P(High|No)P(Strong|No)]P(Play=No)\n",
    "##### =>(0/5)*(2/5)*(4/5)*(3/5)*(5/14)=0.000\n",
    "\n",
    "#### Observation: Given the fact P(Yes| x’) > P(No| x’), we label x’ to be “Yes” Answer => Yes, Play Tennis"
   ]
  },
  {
   "cell_type": "code",
   "execution_count": 24,
   "id": "333e5736",
   "metadata": {},
   "outputs": [
    {
     "data": {
      "text/html": [
       "<div>\n",
       "<style scoped>\n",
       "    .dataframe tbody tr th:only-of-type {\n",
       "        vertical-align: middle;\n",
       "    }\n",
       "\n",
       "    .dataframe tbody tr th {\n",
       "        vertical-align: top;\n",
       "    }\n",
       "\n",
       "    .dataframe thead th {\n",
       "        text-align: right;\n",
       "    }\n",
       "</style>\n",
       "<table border=\"1\" class=\"dataframe\">\n",
       "  <thead>\n",
       "    <tr style=\"text-align: right;\">\n",
       "      <th></th>\n",
       "      <th>Outlook</th>\n",
       "      <th>Temperature</th>\n",
       "      <th>Humidity</th>\n",
       "      <th>Wind</th>\n",
       "    </tr>\n",
       "  </thead>\n",
       "  <tbody>\n",
       "    <tr>\n",
       "      <th>0</th>\n",
       "      <td>Sunny</td>\n",
       "      <td>Hot</td>\n",
       "      <td>High</td>\n",
       "      <td>Strong</td>\n",
       "    </tr>\n",
       "    <tr>\n",
       "      <th>1</th>\n",
       "      <td>Overcast</td>\n",
       "      <td>Mild</td>\n",
       "      <td>High</td>\n",
       "      <td>Strong</td>\n",
       "    </tr>\n",
       "  </tbody>\n",
       "</table>\n",
       "</div>"
      ],
      "text/plain": [
       "    Outlook Temperature Humidity    Wind\n",
       "0     Sunny         Hot     High  Strong\n",
       "1  Overcast        Mild     High  Strong"
      ]
     },
     "execution_count": 24,
     "metadata": {},
     "output_type": "execute_result"
    }
   ],
   "source": [
    "#Predicting to play tennis or no\n",
    "#test data\n",
    "tennis_data_test=pd.DataFrame([['Sunny','Hot','High','Strong'],['Overcast','Mild','High','Strong']],columns = ['Outlook','Temperature', 'Humidity', 'Wind' ])\n",
    "tennis_data_test"
   ]
  },
  {
   "cell_type": "code",
   "execution_count": 25,
   "id": "e407d004",
   "metadata": {},
   "outputs": [
    {
     "name": "stdout",
     "output_type": "stream",
     "text": [
      "Outlook: [2 2 0 1 1 1 0 2 2 1 2 0 0 1]\n",
      "Temp: [1 1 1 2 0 0 0 2 0 2 2 2 1 2]\n",
      "Humidity: [0 0 0 0 1 1 1 0 1 1 1 0 1 0]\n",
      "Wind: [1 0 1 1 1 0 0 1 1 1 0 0 1 0]\n",
      "Play: [0 0 1 1 1 0 1 0 1 1 1 1 1 0]\n"
     ]
    }
   ],
   "source": [
    "# Import LabelEncoder\n",
    "from sklearn.preprocessing import LabelEncoder\n",
    "#creating labelEncoder\n",
    "le = LabelEncoder()\n",
    "\n",
    "# Converting string labels into numbers.\n",
    "weather_encoded=le.fit_transform(weather)\n",
    "print(\"Outlook:\", weather_encoded)\n",
    "\n",
    "temp_encoded=le.fit_transform(temp)\n",
    "print(\"Temp:\",temp_encoded)\n",
    "\n",
    "humidity_encoded=le.fit_transform(humidity)\n",
    "print(\"Humidity:\",humidity_encoded)\n",
    "\n",
    "wind_encoded=le.fit_transform(wind)\n",
    "print(\"Wind:\",wind_encoded)\n",
    "\n",
    "play_encoded=le.fit_transform(play)\n",
    "print(\"Play:\",play_encoded)"
   ]
  },
  {
   "cell_type": "code",
   "execution_count": 26,
   "id": "67468f33",
   "metadata": {},
   "outputs": [
    {
     "name": "stdout",
     "output_type": "stream",
     "text": [
      "Outlook: [1 0]\n",
      "Temp: [0 1]\n",
      "Humidity: [0 0]\n",
      "Wind: [0 0]\n"
     ]
    }
   ],
   "source": [
    "# Converting string labels into numbers.\n",
    "weather_encoded_test=le.fit_transform(tennis_data_test['Outlook'])\n",
    "print(\"Outlook:\", weather_encoded_test)\n",
    "\n",
    "temp_encoded_test=le.fit_transform(tennis_data_test['Temperature'])\n",
    "print(\"Temp:\",temp_encoded_test)\n",
    "\n",
    "humidity_encoded_test=le.fit_transform(tennis_data_test['Humidity'])\n",
    "print(\"Humidity:\",humidity_encoded_test)\n",
    "\n",
    "wind_encoded_test=le.fit_transform(tennis_data_test['Wind'])\n",
    "print(\"Wind:\",wind_encoded_test)\n"
   ]
  },
  {
   "cell_type": "code",
   "execution_count": 27,
   "id": "e8d9c49a",
   "metadata": {},
   "outputs": [
    {
     "data": {
      "text/html": [
       "<div>\n",
       "<style scoped>\n",
       "    .dataframe tbody tr th:only-of-type {\n",
       "        vertical-align: middle;\n",
       "    }\n",
       "\n",
       "    .dataframe tbody tr th {\n",
       "        vertical-align: top;\n",
       "    }\n",
       "\n",
       "    .dataframe thead th {\n",
       "        text-align: right;\n",
       "    }\n",
       "</style>\n",
       "<table border=\"1\" class=\"dataframe\">\n",
       "  <thead>\n",
       "    <tr style=\"text-align: right;\">\n",
       "      <th></th>\n",
       "      <th>outlook</th>\n",
       "      <th>temp</th>\n",
       "      <th>humidity</th>\n",
       "      <th>wind</th>\n",
       "    </tr>\n",
       "  </thead>\n",
       "  <tbody>\n",
       "    <tr>\n",
       "      <th>0</th>\n",
       "      <td>2</td>\n",
       "      <td>1</td>\n",
       "      <td>0</td>\n",
       "      <td>1</td>\n",
       "    </tr>\n",
       "    <tr>\n",
       "      <th>1</th>\n",
       "      <td>2</td>\n",
       "      <td>1</td>\n",
       "      <td>0</td>\n",
       "      <td>0</td>\n",
       "    </tr>\n",
       "    <tr>\n",
       "      <th>2</th>\n",
       "      <td>0</td>\n",
       "      <td>1</td>\n",
       "      <td>0</td>\n",
       "      <td>1</td>\n",
       "    </tr>\n",
       "    <tr>\n",
       "      <th>3</th>\n",
       "      <td>1</td>\n",
       "      <td>2</td>\n",
       "      <td>0</td>\n",
       "      <td>1</td>\n",
       "    </tr>\n",
       "    <tr>\n",
       "      <th>4</th>\n",
       "      <td>1</td>\n",
       "      <td>0</td>\n",
       "      <td>1</td>\n",
       "      <td>1</td>\n",
       "    </tr>\n",
       "    <tr>\n",
       "      <th>5</th>\n",
       "      <td>1</td>\n",
       "      <td>0</td>\n",
       "      <td>1</td>\n",
       "      <td>0</td>\n",
       "    </tr>\n",
       "    <tr>\n",
       "      <th>6</th>\n",
       "      <td>0</td>\n",
       "      <td>0</td>\n",
       "      <td>1</td>\n",
       "      <td>0</td>\n",
       "    </tr>\n",
       "    <tr>\n",
       "      <th>7</th>\n",
       "      <td>2</td>\n",
       "      <td>2</td>\n",
       "      <td>0</td>\n",
       "      <td>1</td>\n",
       "    </tr>\n",
       "    <tr>\n",
       "      <th>8</th>\n",
       "      <td>2</td>\n",
       "      <td>0</td>\n",
       "      <td>1</td>\n",
       "      <td>1</td>\n",
       "    </tr>\n",
       "    <tr>\n",
       "      <th>9</th>\n",
       "      <td>1</td>\n",
       "      <td>2</td>\n",
       "      <td>1</td>\n",
       "      <td>1</td>\n",
       "    </tr>\n",
       "    <tr>\n",
       "      <th>10</th>\n",
       "      <td>2</td>\n",
       "      <td>2</td>\n",
       "      <td>1</td>\n",
       "      <td>0</td>\n",
       "    </tr>\n",
       "    <tr>\n",
       "      <th>11</th>\n",
       "      <td>0</td>\n",
       "      <td>2</td>\n",
       "      <td>0</td>\n",
       "      <td>0</td>\n",
       "    </tr>\n",
       "    <tr>\n",
       "      <th>12</th>\n",
       "      <td>0</td>\n",
       "      <td>1</td>\n",
       "      <td>1</td>\n",
       "      <td>1</td>\n",
       "    </tr>\n",
       "    <tr>\n",
       "      <th>13</th>\n",
       "      <td>1</td>\n",
       "      <td>2</td>\n",
       "      <td>0</td>\n",
       "      <td>0</td>\n",
       "    </tr>\n",
       "  </tbody>\n",
       "</table>\n",
       "</div>"
      ],
      "text/plain": [
       "    outlook  temp  humidity  wind\n",
       "0         2     1         0     1\n",
       "1         2     1         0     0\n",
       "2         0     1         0     1\n",
       "3         1     2         0     1\n",
       "4         1     0         1     1\n",
       "5         1     0         1     0\n",
       "6         0     0         1     0\n",
       "7         2     2         0     1\n",
       "8         2     0         1     1\n",
       "9         1     2         1     1\n",
       "10        2     2         1     0\n",
       "11        0     2         0     0\n",
       "12        0     1         1     1\n",
       "13        1     2         0     0"
      ]
     },
     "execution_count": 27,
     "metadata": {},
     "output_type": "execute_result"
    }
   ],
   "source": [
    "# Creating the training data (X_train) dataframe\n",
    "X_train = pd.DataFrame(zip(weather_encoded, temp_encoded, humidity_encoded, wind_encoded), columns=['outlook', 'temp', 'humidity', 'wind'])\n",
    "X_train"
   ]
  },
  {
   "cell_type": "markdown",
   "id": "621990a9",
   "metadata": {},
   "source": [
    "#### Outlook: 0 -> Overcast, 1 -> Rainy 2 -> Sunny\n",
    "#### Temp: 0 -> Cool, 1 -> Mild, 2 -> Hot\n",
    "#### Humidity: 0 -> High , 1 -> Normal\n",
    "#### Wind: 0 -> No 1 -> Yes"
   ]
  },
  {
   "cell_type": "code",
   "execution_count": 28,
   "id": "ce9d2845",
   "metadata": {},
   "outputs": [
    {
     "data": {
      "text/plain": [
       "array([0, 0, 1, 1, 1, 0, 1, 0, 1, 1, 1, 1, 1, 0])"
      ]
     },
     "execution_count": 28,
     "metadata": {},
     "output_type": "execute_result"
    }
   ],
   "source": [
    "# Creating the target variable (y_train) dataframe and flattening it to a 1D array\n",
    "y_train = pd.DataFrame(play_encoded, columns=['play'])\n",
    "y_train = y_train.values.ravel()\n",
    "y_train"
   ]
  },
  {
   "cell_type": "code",
   "execution_count": 29,
   "id": "df9b8e56",
   "metadata": {},
   "outputs": [
    {
     "data": {
      "text/html": [
       "<div>\n",
       "<style scoped>\n",
       "    .dataframe tbody tr th:only-of-type {\n",
       "        vertical-align: middle;\n",
       "    }\n",
       "\n",
       "    .dataframe tbody tr th {\n",
       "        vertical-align: top;\n",
       "    }\n",
       "\n",
       "    .dataframe thead th {\n",
       "        text-align: right;\n",
       "    }\n",
       "</style>\n",
       "<table border=\"1\" class=\"dataframe\">\n",
       "  <thead>\n",
       "    <tr style=\"text-align: right;\">\n",
       "      <th></th>\n",
       "      <th>outlook</th>\n",
       "      <th>temp</th>\n",
       "      <th>humidity</th>\n",
       "      <th>wind</th>\n",
       "    </tr>\n",
       "  </thead>\n",
       "  <tbody>\n",
       "    <tr>\n",
       "      <th>0</th>\n",
       "      <td>1</td>\n",
       "      <td>0</td>\n",
       "      <td>0</td>\n",
       "      <td>0</td>\n",
       "    </tr>\n",
       "    <tr>\n",
       "      <th>1</th>\n",
       "      <td>0</td>\n",
       "      <td>1</td>\n",
       "      <td>0</td>\n",
       "      <td>0</td>\n",
       "    </tr>\n",
       "  </tbody>\n",
       "</table>\n",
       "</div>"
      ],
      "text/plain": [
       "   outlook  temp  humidity  wind\n",
       "0        1     0         0     0\n",
       "1        0     1         0     0"
      ]
     },
     "execution_count": 29,
     "metadata": {},
     "output_type": "execute_result"
    }
   ],
   "source": [
    "# Creating the testing data (X_test) dataframe\n",
    "X_test = pd.DataFrame(zip(weather_encoded_test, temp_encoded_test, humidity_encoded_test, wind_encoded_test), columns=['outlook', 'temp', 'humidity', 'wind'])\n",
    "X_test"
   ]
  },
  {
   "cell_type": "code",
   "execution_count": 30,
   "id": "f1eafe59",
   "metadata": {},
   "outputs": [],
   "source": [
    "#Import Gaussian Naive Bayes model\n",
    "from sklearn.naive_bayes import GaussianNB\n",
    "\n",
    "#Create a Gaussian Classifier\n",
    "nb_model = GaussianNB()"
   ]
  },
  {
   "cell_type": "code",
   "execution_count": 31,
   "id": "45a068f5",
   "metadata": {},
   "outputs": [
    {
     "data": {
      "text/plain": [
       "GaussianNB()"
      ]
     },
     "execution_count": 31,
     "metadata": {},
     "output_type": "execute_result"
    }
   ],
   "source": [
    "nb_model.fit(X_train,y_train)"
   ]
  },
  {
   "cell_type": "code",
   "execution_count": 32,
   "id": "097d2677",
   "metadata": {},
   "outputs": [
    {
     "data": {
      "text/plain": [
       "array([0, 1])"
      ]
     },
     "execution_count": 32,
     "metadata": {},
     "output_type": "execute_result"
    }
   ],
   "source": [
    "y_pred = nb_model.predict(X_test)\n",
    "y_pred"
   ]
  },
  {
   "cell_type": "code",
   "execution_count": 33,
   "id": "39627d0f",
   "metadata": {},
   "outputs": [
    {
     "data": {
      "text/html": [
       "<div>\n",
       "<style scoped>\n",
       "    .dataframe tbody tr th:only-of-type {\n",
       "        vertical-align: middle;\n",
       "    }\n",
       "\n",
       "    .dataframe tbody tr th {\n",
       "        vertical-align: top;\n",
       "    }\n",
       "\n",
       "    .dataframe thead th {\n",
       "        text-align: right;\n",
       "    }\n",
       "</style>\n",
       "<table border=\"1\" class=\"dataframe\">\n",
       "  <thead>\n",
       "    <tr style=\"text-align: right;\">\n",
       "      <th></th>\n",
       "      <th>Play_tennis</th>\n",
       "    </tr>\n",
       "  </thead>\n",
       "  <tbody>\n",
       "    <tr>\n",
       "      <th>0</th>\n",
       "      <td>No</td>\n",
       "    </tr>\n",
       "    <tr>\n",
       "      <th>1</th>\n",
       "      <td>Yes</td>\n",
       "    </tr>\n",
       "  </tbody>\n",
       "</table>\n",
       "</div>"
      ],
      "text/plain": [
       "  Play_tennis\n",
       "0          No\n",
       "1         Yes"
      ]
     },
     "execution_count": 33,
     "metadata": {},
     "output_type": "execute_result"
    }
   ],
   "source": [
    "y_pred_df=pd.DataFrame(y_pred,columns=[\"Play_tennis\"])\n",
    "y_pred_df=y_pred_df.replace({0:'No',1:'Yes'})\n",
    "y_pred_df"
   ]
  },
  {
   "cell_type": "markdown",
   "id": "55a712d0",
   "metadata": {},
   "source": [
    "#### Observation: \n",
    "##### 1. For Outlook : Sunny, Temp: Hot, Humidity: High, Wind = Strong, we can see that answer is no \n",
    "##### 2. For Outlook = Overcast, Temp = Mild, humidity = High, Wind = Strong, we can see that answer is Yes \n",
    "##### The answers obtained from manually calculation and using sklearn matches. "
   ]
  }
 ],
 "metadata": {
  "kernelspec": {
   "display_name": "Python 3 (ipykernel)",
   "language": "python",
   "name": "python3"
  },
  "language_info": {
   "codemirror_mode": {
    "name": "ipython",
    "version": 3
   },
   "file_extension": ".py",
   "mimetype": "text/x-python",
   "name": "python",
   "nbconvert_exporter": "python",
   "pygments_lexer": "ipython3",
   "version": "3.9.13"
  }
 },
 "nbformat": 4,
 "nbformat_minor": 5
}
