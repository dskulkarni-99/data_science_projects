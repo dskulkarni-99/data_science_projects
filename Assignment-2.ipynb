{
 "cells": [
  {
   "cell_type": "markdown",
   "id": "3b0e5ebb",
   "metadata": {},
   "source": [
    "In data science or Machine learning, one of the most important tasks performed when working with large amounts of data is data cleaning. In this assignment, you'll see how to clean a dataset using pandas step by step. This dataset is a simulation of a customer list."
   ]
  },
  {
   "cell_type": "markdown",
   "id": "8f4df655",
   "metadata": {},
   "source": [
    "**Q1\tWhat is machine learning? Where and why you will use machine learning?**"
   ]
  },
  {
   "cell_type": "markdown",
   "id": "94742428",
   "metadata": {},
   "source": [
    "Machine learning is a study of algorithms that improve machine's (AI's) performance at executing some task overtime with experience. \n",
    "<br>We use machine learning for following reasons:\n",
    "<br>1. Lack of Human Expertise: Machine learning is essential in scenarios where human expertise is limited or unavailable. For instance, when exploring unknown territories, such as uncharted regions of space or deep ocean exploration, machines can be used to make data-driven decisions in environments where human presence and knowledge are constrained or impractical.\n",
    "<br>2. Difficulty in Translating Expertise into Computational Tasks: In some domains, humans possess valuable expertise, but translating that knowledge into computational tasks can be challenging. Machine learning can bridge this gap. For example, in the field of speech recognition, where humans have a deep understanding of spoken language, machine learning algorithms can be employed to convert this expertise into practical, computational tasks like voice commands and automated transcription, enabling more natural human-computer interactions."
   ]
  },
  {
   "cell_type": "markdown",
   "id": "a9cc549a",
   "metadata": {},
   "source": [
    "**Q2 What is normalization/Scaling in Machine Learning and why do you perform? Explain with examples**"
   ]
  },
  {
   "cell_type": "markdown",
   "id": "db8d5d3e",
   "metadata": {},
   "source": [
    "Normalization is a common technique used for data preprocessing. Normalization includes modification in the shape of the distribution of the data. Normalization may improve the accuracy and efficiency of mining algorithms involving distance measurements. It is performed because it helps to prevent that attributes with large\n",
    "ranges out-weight attributes with small ranges. Normalization ensures that the features are on a common scale, which can lead to more accurate and efficient machine learning models. The choice between Min-Max scaling and Z-score standardization depends on the characteristics of your data and the requirements of your specific machine learning task. \n",
    "<br>Example:"
   ]
  },
  {
   "cell_type": "code",
   "execution_count": 30,
   "id": "45adce3d",
   "metadata": {},
   "outputs": [
    {
     "name": "stdout",
     "output_type": "stream",
     "text": [
      "HouseAge array:  [41. 21. 52. ... 17. 18. 16.]\n",
      "Normalized HouseAge array:  [[0.00912272 0.00467261 0.01157028 ... 0.00378259 0.0040051  0.00356009]]\n"
     ]
    }
   ],
   "source": [
    "from sklearn import preprocessing\n",
    "import numpy as np\n",
    "from sklearn.datasets import fetch_california_housing\n",
    "\n",
    "california_housing = fetch_california_housing(as_frame=True)\n",
    "#print(california_housing.DESCR)\n",
    "\n",
    "x_array = np.array(california_housing.data['HouseAge'])\n",
    "print(\"HouseAge array: \",x_array)\n",
    "\n",
    "normalized_arr = preprocessing.normalize([x_array])\n",
    "print(\"Normalized HouseAge array: \",normalized_arr)"
   ]
  },
  {
   "cell_type": "markdown",
   "id": "8056a111",
   "metadata": {},
   "source": [
    "The output shows that the normalize() function changed the array of median house age values so that the square root of the sum of the squares of the values equals one. \n",
    "In other words, the values were scaled to a unit length using the L2 norm."
   ]
  },
  {
   "cell_type": "markdown",
   "id": "7c9a839a",
   "metadata": {},
   "source": [
    "**Q3 What is supervised and unsupervised learning? Give some examples** "
   ]
  },
  {
   "cell_type": "markdown",
   "id": "ad337164",
   "metadata": {},
   "source": [
    "Supervised learning algorithms or methods are the most commonly used ML algorithms.This method or learning algorithm take the data sample i.e. the training data and its associated output i.e. labels or responses with each data samples during the training process. The main objective of supervised learning algorithms is to learn an association between input data samples and corresponding outputs after performing multiple training data\n",
    "instances.\n",
    "<br>For example, we have\n",
    "<br>x: Input variables and\n",
    "<br>Y: Output variable\n",
    "<br>Now, apply an algorithm to learn the mapping function from the input to output as follows:\n",
    "<br>Y=f(x)\n",
    "<br>Now, the main objective would be to approximate the mapping function so well that even when we have new input data (x), we can easily predict the output variable (Y) for that new input data.\n",
    "<br>It is called supervised because the whole process of learning can be thought as it is being\n",
    "supervised by a teacher or supervisor. Supervised learning basically tries to model the\n",
    "relationship between the inputs and their corresponding outputs from the training data so\n",
    "that we would be able to predict output responses for new data inputs based on the\n",
    "knowledge it gained earlier with regard to relationships and mappings between the inputs\n",
    "and their target outputs. This is precisely why supervised learning methods are extensively\n",
    "used in predictive analytics where the main objective is to predict some response for some\n",
    "input data that’s typically fed into a trained supervised ML model. Supervised learning\n",
    "methods are of two major classes based on the type of ML tasks they aim to solve.\n",
    "<br>•Classification\n",
    "<br>•Regression\n",
    "<br>Examples of supervised machine learning algorithms includes Decision tree, Random Forest, KNN, Logistic Regression etc\n",
    "<br>\n",
    "<br>\n",
    "Unsupervised machine learning algorithms we do not have any supervisor to provide any sort of guidance. Unsupervised learning algorithms are handy in the scenario in which we do not have the liberty, like in supervised\n",
    "learning algorithms, of having pre-labeled training data and we want to extract useful pattern from input data.\n",
    "<br>For example,: \n",
    "<br>Suppose we have:\n",
    "<br>x: Input variables, then there would be no corresponding output variable and the algorithms need to discover the interesting pattern in data for learning. \n",
    "<br>Based on the ML tasks, unsupervised learning algorithms can be divided into following broad classes:\n",
    "<br>• Clustering\n",
    "<br>• Association\n",
    "<br>• Dimensionality Reduction\n",
    "<br>• Anomaly detection"
   ]
  },
  {
   "cell_type": "markdown",
   "id": "500a6a32",
   "metadata": {},
   "source": [
    "**Q4 What is Data Cleaning and why do we need it?**  "
   ]
  },
  {
   "cell_type": "markdown",
   "id": "72c84d58",
   "metadata": {},
   "source": [
    "Data cleaning is the process of fixing or removing incorrect, corrupted, incorrectly formatted, duplicate, or incomplete data within a dataset. When combining multiple data sources, there are many opportunities for data to be duplicated or mislabeled. \n",
    "\n",
    "We need data cleaning because clean data will ultimately increase overall productivity and allow for the highest quality information in your decision-making. Benefits include:\n",
    "\n",
    "Removal of errors when multiple sources of data are at play.\n",
    "Fewer errors make for happier clients and less-frustrated employees.\n",
    "Ability to map the different functions and what your data is intended to do.\n",
    "Monitoring errors and better reporting to see where errors are coming from, making it easier to fix incorrect or corrupt data for future applications.\n",
    "Using tools for data cleaning will make for more efficient business practices and quicker decision-making.\n",
    "\n",
    "Data cleaning includes:\n",
    "Converting the data types if any mismatch present in the data types of the\n",
    "variables.\n",
    "Changing the format of the date variable to the required format.\n",
    "Replacing the special characters and constants with the appropriate values."
   ]
  },
  {
   "cell_type": "code",
   "execution_count": 31,
   "id": "4635cdb6",
   "metadata": {},
   "outputs": [],
   "source": [
    "import pandas as pd"
   ]
  },
  {
   "cell_type": "code",
   "execution_count": 32,
   "id": "5c667c22",
   "metadata": {},
   "outputs": [
    {
     "name": "stdout",
     "output_type": "stream",
     "text": [
      "    user_id       Name Last_name  age           Phone                Email  \\\n",
      "0       234        Tom     Smith   23    555/123/4567      smith@email.com   \n",
      "1       235     Alex--   johnson   32    333-234-5678  johnson@hotmail.com   \n",
      "2       236   ..Thomas     brown   45    444_456_7890      brown@email.com   \n",
      "3       237       John     Davis   22    111-222-3333       davis@mail.com   \n",
      "4       237       John     Davis   22    111-222-3333       davis@mail.com   \n",
      "5       238      Paul/      None   50            None       John@gmail.com   \n",
      "6       239      Emma9    wilson   34    333/987/4567      wilson@mail.com   \n",
      "7       240        Joy  Thompson   47     222/345_987   thompson@email.com   \n",
      "8       241  Samantha_       Lee   28  (777) 987-6543        lee@email.com   \n",
      "9       242      Emily   Johnson   19    777-888-9999    emily@hotmail.com   \n",
      "10      242      Emily   Johnson   19    777-888-9999    emily@hotmail.com   \n",
      "\n",
      "   Not_Useful_column  \n",
      "0               None  \n",
      "1               None  \n",
      "2               None  \n",
      "3               None  \n",
      "4               None  \n",
      "5               None  \n",
      "6               None  \n",
      "7               None  \n",
      "8               None  \n",
      "9               None  \n",
      "10              None  \n"
     ]
    }
   ],
   "source": [
    "df_users = pd.DataFrame({\n",
    "    \"user_id\": [234, 235, 236, 237, 237, 238, 239, 240, 241, 242, 242],\n",
    "    \"Name\": [\"Tom\", \"Alex--\", \"..Thomas\", \"John\", \"John\", \"Paul/\", \"Emma9\", \"Joy\", \"Samantha_\", \"Emily\", \"Emily\"],\n",
    "    \"Last_name\": [\"Smith\", \"johnson\", \"brown\", \"Davis\", \"Davis\", \"None\", \"wilson\", \"Thompson\", \"Lee\", \"Johnson\", \"Johnson\"],\n",
    "    \"age\": [23, 32, 45, 22, 22, 50, 34, 47, 28, 19, 19],\n",
    "    \"Phone\": [\"555/123/4567\", \"333-234-5678\", \"444_456_7890\", \"111-222-3333\", \"111-222-3333\", None, \"333/987/4567\", \"222/345_987\", \"(777) 987-6543\", \"777-888-9999\", \"777-888-9999\"],\n",
    "    \"Email\": [\"smith@email.com\", \"johnson@hotmail.com\", \"brown@email.com\", \"davis@mail.com\", \"davis@mail.com\", \"John@gmail.com\", \"wilson@mail.com\", \"thompson@email.com\", \"lee@email.com\", \"emily@hotmail.com\", \"emily@hotmail.com\"],\n",
    "    \"Not_Useful_column\": [None, None, None, None, None, None, None, None, None, None, None]\n",
    "})\n",
    "\n",
    "print(df_users)"
   ]
  },
  {
   "cell_type": "markdown",
   "id": "06572341",
   "metadata": {},
   "source": [
    "Here we use the pandas `DataFrame()` function to create a mock dataset, this dataset contains 7 columns and 11 rows, the columns are, a `user_id` which is the user's unique id, a `Name` column, a `Last_name` column, the user's `age`, the user's `Phone` number, the user's `Email`, and finally a non-useful column called `Not_Useful_column` which we will use as an example of how to delete an unnecessary column from a dataset.\n",
    "\n",
    "As you can see in the example dataset, the data has some inconsistencies in the columns, a few unnecessary symbols in the `Name` column, some values in the `Last_name` column are not capitalized, and each of the values in the `Phone` column have different syntax which makes it difficult to work with them.\n"
   ]
  },
  {
   "cell_type": "markdown",
   "id": "fc4415ad",
   "metadata": {},
   "source": [
    "Your final output should look like "
   ]
  },
  {
   "cell_type": "code",
   "execution_count": 38,
   "id": "3f751482",
   "metadata": {},
   "outputs": [
    {
     "data": {
      "text/html": [
       "<div>\n",
       "<style scoped>\n",
       "    .dataframe tbody tr th:only-of-type {\n",
       "        vertical-align: middle;\n",
       "    }\n",
       "\n",
       "    .dataframe tbody tr th {\n",
       "        vertical-align: top;\n",
       "    }\n",
       "\n",
       "    .dataframe thead th {\n",
       "        text-align: right;\n",
       "    }\n",
       "</style>\n",
       "<table border=\"1\" class=\"dataframe\">\n",
       "  <thead>\n",
       "    <tr style=\"text-align: right;\">\n",
       "      <th></th>\n",
       "      <th>user_id</th>\n",
       "      <th>Name</th>\n",
       "      <th>Last_name</th>\n",
       "      <th>age</th>\n",
       "      <th>Phone</th>\n",
       "      <th>Email</th>\n",
       "    </tr>\n",
       "  </thead>\n",
       "  <tbody>\n",
       "    <tr>\n",
       "      <th>0</th>\n",
       "      <td>234</td>\n",
       "      <td>Tom</td>\n",
       "      <td>Smith</td>\n",
       "      <td>23</td>\n",
       "      <td>5551234567</td>\n",
       "      <td>smith@email.com</td>\n",
       "    </tr>\n",
       "    <tr>\n",
       "      <th>1</th>\n",
       "      <td>235</td>\n",
       "      <td>Alex</td>\n",
       "      <td>Johnson</td>\n",
       "      <td>32</td>\n",
       "      <td>3332345678</td>\n",
       "      <td>johnson@hotmail.com</td>\n",
       "    </tr>\n",
       "    <tr>\n",
       "      <th>2</th>\n",
       "      <td>236</td>\n",
       "      <td>Thomas</td>\n",
       "      <td>Brown</td>\n",
       "      <td>45</td>\n",
       "      <td>4444567890</td>\n",
       "      <td>brown@email.com</td>\n",
       "    </tr>\n",
       "    <tr>\n",
       "      <th>3</th>\n",
       "      <td>237</td>\n",
       "      <td>John</td>\n",
       "      <td>Davis</td>\n",
       "      <td>22</td>\n",
       "      <td>1112223333</td>\n",
       "      <td>davis@mail.com</td>\n",
       "    </tr>\n",
       "    <tr>\n",
       "      <th>6</th>\n",
       "      <td>239</td>\n",
       "      <td>Emma</td>\n",
       "      <td>Wilson</td>\n",
       "      <td>34</td>\n",
       "      <td>3339874567</td>\n",
       "      <td>wilson@mail.com</td>\n",
       "    </tr>\n",
       "    <tr>\n",
       "      <th>8</th>\n",
       "      <td>241</td>\n",
       "      <td>Samantha</td>\n",
       "      <td>Lee</td>\n",
       "      <td>28</td>\n",
       "      <td>7779876543</td>\n",
       "      <td>lee@email.com</td>\n",
       "    </tr>\n",
       "    <tr>\n",
       "      <th>9</th>\n",
       "      <td>242</td>\n",
       "      <td>Emily</td>\n",
       "      <td>Johnson</td>\n",
       "      <td>19</td>\n",
       "      <td>7778889999</td>\n",
       "      <td>emily@hotmail.com</td>\n",
       "    </tr>\n",
       "  </tbody>\n",
       "</table>\n",
       "</div>"
      ],
      "text/plain": [
       "   user_id      Name Last_name  age       Phone                Email\n",
       "0      234       Tom     Smith   23  5551234567      smith@email.com\n",
       "1      235      Alex   Johnson   32  3332345678  johnson@hotmail.com\n",
       "2      236    Thomas     Brown   45  4444567890      brown@email.com\n",
       "3      237      John     Davis   22  1112223333       davis@mail.com\n",
       "6      239      Emma    Wilson   34  3339874567      wilson@mail.com\n",
       "8      241  Samantha       Lee   28  7779876543        lee@email.com\n",
       "9      242     Emily   Johnson   19  7778889999    emily@hotmail.com"
      ]
     },
     "execution_count": 38,
     "metadata": {},
     "output_type": "execute_result"
    }
   ],
   "source": [
    "df_users"
   ]
  },
  {
   "cell_type": "code",
   "execution_count": 5,
   "id": "32f65d9b",
   "metadata": {},
   "outputs": [
    {
     "data": {
      "text/html": [
       "<div>\n",
       "<style scoped>\n",
       "    .dataframe tbody tr th:only-of-type {\n",
       "        vertical-align: middle;\n",
       "    }\n",
       "\n",
       "    .dataframe tbody tr th {\n",
       "        vertical-align: top;\n",
       "    }\n",
       "\n",
       "    .dataframe thead th {\n",
       "        text-align: right;\n",
       "    }\n",
       "</style>\n",
       "<table border=\"1\" class=\"dataframe\">\n",
       "  <thead>\n",
       "    <tr style=\"text-align: right;\">\n",
       "      <th></th>\n",
       "      <th>user_id</th>\n",
       "      <th>Name</th>\n",
       "      <th>Last_name</th>\n",
       "      <th>age</th>\n",
       "      <th>Phone</th>\n",
       "      <th>Email</th>\n",
       "    </tr>\n",
       "  </thead>\n",
       "  <tbody>\n",
       "    <tr>\n",
       "      <th>0</th>\n",
       "      <td>234</td>\n",
       "      <td>Tom</td>\n",
       "      <td>Smith</td>\n",
       "      <td>23</td>\n",
       "      <td>5551234567</td>\n",
       "      <td>smith@email.com</td>\n",
       "    </tr>\n",
       "    <tr>\n",
       "      <th>1</th>\n",
       "      <td>235</td>\n",
       "      <td>Alex</td>\n",
       "      <td>Johnson</td>\n",
       "      <td>32</td>\n",
       "      <td>3332345678</td>\n",
       "      <td>johnson@hotmail.com</td>\n",
       "    </tr>\n",
       "    <tr>\n",
       "      <th>2</th>\n",
       "      <td>236</td>\n",
       "      <td>Thomas</td>\n",
       "      <td>Brown</td>\n",
       "      <td>45</td>\n",
       "      <td>4444567890</td>\n",
       "      <td>brown@email.com</td>\n",
       "    </tr>\n",
       "    <tr>\n",
       "      <th>3</th>\n",
       "      <td>237</td>\n",
       "      <td>John</td>\n",
       "      <td>Davis</td>\n",
       "      <td>22</td>\n",
       "      <td>1112223333</td>\n",
       "      <td>davis@mail.com</td>\n",
       "    </tr>\n",
       "    <tr>\n",
       "      <th>6</th>\n",
       "      <td>239</td>\n",
       "      <td>Emma</td>\n",
       "      <td>Wilson</td>\n",
       "      <td>34</td>\n",
       "      <td>3339874567</td>\n",
       "      <td>wilson@mail.com</td>\n",
       "    </tr>\n",
       "    <tr>\n",
       "      <th>8</th>\n",
       "      <td>241</td>\n",
       "      <td>Samantha</td>\n",
       "      <td>Lee</td>\n",
       "      <td>28</td>\n",
       "      <td>7779876543</td>\n",
       "      <td>lee@email.com</td>\n",
       "    </tr>\n",
       "    <tr>\n",
       "      <th>9</th>\n",
       "      <td>242</td>\n",
       "      <td>Emily</td>\n",
       "      <td>Johnson</td>\n",
       "      <td>19</td>\n",
       "      <td>7778889999</td>\n",
       "      <td>emily@hotmail.com</td>\n",
       "    </tr>\n",
       "  </tbody>\n",
       "</table>\n",
       "</div>"
      ],
      "text/plain": [
       "   user_id      Name Last_name  age       Phone                Email\n",
       "0      234       Tom     Smith   23  5551234567      smith@email.com\n",
       "1      235      Alex   Johnson   32  3332345678  johnson@hotmail.com\n",
       "2      236    Thomas     Brown   45  4444567890      brown@email.com\n",
       "3      237      John     Davis   22  1112223333       davis@mail.com\n",
       "6      239      Emma    Wilson   34  3339874567      wilson@mail.com\n",
       "8      241  Samantha       Lee   28  7779876543        lee@email.com\n",
       "9      242     Emily   Johnson   19  7778889999    emily@hotmail.com"
      ]
     },
     "execution_count": 5,
     "metadata": {},
     "output_type": "execute_result"
    }
   ],
   "source": [
    "import pandas as pd\n",
    "df_users = pd.DataFrame({\n",
    "    \"user_id\": [234, 235, 236, 237, 237, 238, 239, 240, 241, 242, 242],\n",
    "    \"Name\": [\"Tom\", \"Alex--\", \"..Thomas\", \"John\", \"John\", \"Paul/\", \"Emma9\", \"Joy\", \"Samantha_\", \"Emily\", \"Emily\"],\n",
    "    \"Last_name\": [\"Smith\", \"johnson\", \"brown\", \"Davis\", \"Davis\", \"None\", \"wilson\", \"Thompson\", \"Lee\", \"Johnson\", \"Johnson\"],\n",
    "    \"age\": [23, 32, 45, 22, 22, 50, 34, 47, 28, 19, 19],\n",
    "    \"Phone\": [\"555/123/4567\", \"333-234-5678\", \"444_456_7890\", \"111-222-3333\", \"111-222-3333\", None, \"333/987/4567\", \"222/345_987\", \"(777) 987-6543\", \"777-888-9999\", \"777-888-9999\"],\n",
    "    \"Email\": [\"smith@email.com\", \"johnson@hotmail.com\", \"brown@email.com\", \"davis@mail.com\", \"davis@mail.com\", \"John@gmail.com\", \"wilson@mail.com\", \"thompson@email.com\", \"lee@email.com\", \"emily@hotmail.com\", \"emily@hotmail.com\"],\n",
    "    \"Not_Useful_column\": [None, None, None, None, None, None, None, None, None, None, None]\n",
    "})\n",
    "\n",
    "#Removing duplicates\n",
    "df_users = df_users.drop_duplicates()\n",
    "\n",
    "#Name column\n",
    "#Removing unnecessary symbols and non-alphabetic characters.\n",
    "df_users['Name'] = df_users['Name'].str.replace('[^a-zA-Z ]', '', regex=True)\n",
    "#The strip() method can be used to remove leading and trailing spaces from a string\n",
    "df_users['Name'] = df_users['Name'].str.strip()\n",
    "\n",
    "#Lastname column\n",
    "#Capitalizing Last_name\n",
    "df_users['Last_name'] = df_users['Last_name'].str.capitalize()\n",
    "\n",
    "#Phone column\n",
    "#Removing unnecessary symbols and non-numeric characters.\n",
    "df_users['Phone'] = df_users['Phone'].str.replace('[^0-9]', '', regex=True)\n",
    "#Removing coluumns which have phone number less than 10 digits\n",
    "df_users = df_users[df_users['Phone'].str.len() == 10]\n",
    "\n",
    "#Not_Useful_column\n",
    "#dropping Not_Useful_column\n",
    "df_users.drop(columns=['Not_Useful_column'], inplace=True)\n",
    "df_users"
   ]
  },
  {
   "cell_type": "code",
   "execution_count": null,
   "id": "3b164067",
   "metadata": {},
   "outputs": [],
   "source": []
  }
 ],
 "metadata": {
  "kernelspec": {
   "display_name": "Python 3 (ipykernel)",
   "language": "python",
   "name": "python3"
  },
  "language_info": {
   "codemirror_mode": {
    "name": "ipython",
    "version": 3
   },
   "file_extension": ".py",
   "mimetype": "text/x-python",
   "name": "python",
   "nbconvert_exporter": "python",
   "pygments_lexer": "ipython3",
   "version": "3.9.13"
  }
 },
 "nbformat": 4,
 "nbformat_minor": 5
}
